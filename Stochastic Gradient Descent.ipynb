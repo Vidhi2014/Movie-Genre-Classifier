{
 "cells": [
  {
   "cell_type": "markdown",
   "metadata": {},
   "source": [
    "Stochastic Gradient Descent Classifier"
   ]
  },
  {
   "cell_type": "code",
   "execution_count": 1,
   "metadata": {},
   "outputs": [
    {
     "name": "stderr",
     "output_type": "stream",
     "text": [
      "[nltk_data] Downloading package stopwords to\n",
      "[nltk_data]     C:\\Users\\vidhi\\AppData\\Roaming\\nltk_data...\n",
      "[nltk_data]   Package stopwords is already up-to-date!\n"
     ]
    }
   ],
   "source": [
    "import numpy as np\n",
    "import pandas as pd\n",
    "import re\n",
    "import nltk\n",
    "import string\n",
    "nltk.download('stopwords')\n",
    "from nltk.corpus import stopwords\n",
    "from nltk.tokenize import word_tokenize\n",
    "from sklearn.preprocessing import LabelEncoder\n",
    "\n",
    "from sklearn.model_selection import GridSearchCV\n",
    "from sklearn.multiclass import OneVsRestClassifier"
   ]
  },
  {
   "cell_type": "code",
   "execution_count": 2,
   "metadata": {},
   "outputs": [],
   "source": [
    "train_data=pd.read_csv(\"W22_P2_train.csv\")\n",
    "test_data=pd.read_csv(\"W22_P2_test.csv\")"
   ]
  },
  {
   "cell_type": "code",
   "execution_count": 3,
   "metadata": {},
   "outputs": [],
   "source": [
    "from nltk.stem import PorterStemmer\n",
    "#function for preprocessing the list of description\n",
    "def preprocess(txt):\n",
    "    BAD_SYMBOLS_RE = re.compile('[^0-9a-z #+_]')\n",
    "    remove_digits = str.maketrans('', '', string.digits)\n",
    "    p = re.compile(\"[\" + re.escape(string.punctuation) + \"]\")\n",
    "    ps = PorterStemmer()\n",
    "    txt = txt.lower()\n",
    "    txt = BAD_SYMBOLS_RE.sub('', txt)\n",
    "    txt = txt.translate(remove_digits)\n",
    "    txt = p.sub(\"\", txt)\n",
    "    stop_words = set(stopwords.words('english'))\n",
    "    word_tokens = word_tokenize(txt)\n",
    "    filtered_sentence = []\n",
    "    for w in word_tokens:\n",
    "        if w not in stop_words:\n",
    "            w = ps.stem(w)\n",
    "            filtered_sentence.append(w)        \n",
    "    return \" \".join(filtered_sentence)"
   ]
  },
  {
   "cell_type": "code",
   "execution_count": 4,
   "metadata": {},
   "outputs": [],
   "source": [
    "#Create a list of preprocessed descriptions from train data\n",
    "preprocessed_description=[]\n",
    "for i in range(0,len(train_data)):\n",
    "    description=preprocess(train_data[\"description\"][i])\n",
    "    preprocessed_description.append(description)"
   ]
  },
  {
   "cell_type": "code",
   "execution_count": 5,
   "metadata": {},
   "outputs": [],
   "source": [
    "#Create a list of preprocessed descriptions from test data\n",
    "preprocessed_test_description=[]\n",
    "for i in range(0,len(test_data)):\n",
    "    description=preprocess(test_data[\"description\"][i])\n",
    "    preprocessed_test_description.append(description)"
   ]
  },
  {
   "cell_type": "code",
   "execution_count": 6,
   "metadata": {},
   "outputs": [],
   "source": [
    "#Vectorize train data\n",
    "from sklearn.feature_extraction.text import TfidfVectorizer\n",
    "tf=TfidfVectorizer(min_df=10,ngram_range=(1,3),max_features=20000)\n",
    "x=tf.fit_transform(preprocessed_description)"
   ]
  },
  {
   "cell_type": "code",
   "execution_count": 7,
   "metadata": {},
   "outputs": [],
   "source": [
    "#Encode labels\n",
    "y=train_data['genre']\n",
    "le = LabelEncoder()\n",
    "y = le.fit_transform(y)"
   ]
  },
  {
   "cell_type": "code",
   "execution_count": 8,
   "metadata": {},
   "outputs": [],
   "source": [
    "from sklearn.model_selection import GridSearchCV\n",
    "from sklearn.linear_model import SGDClassifier\n",
    "from sklearn.model_selection import cross_val_score\n",
    "params = {\n",
    "    \"estimator__loss\" : [\"hinge\", \"log\", \"modified_huber\"],\n",
    "    \"estimator__alpha\" : [0.000001, 0.00001, 0.0001, 0.001, 0.01, 0.1]\n",
    "}\n",
    "\n",
    "clf = SGDClassifier(max_iter=2000)\n",
    "onevsrest = OneVsRestClassifier(clf)\n",
    "model = GridSearchCV(onevsrest, param_grid=params,verbose=10,cv=3)\n",
    "n_scores = cross_val_score(model, x, y, scoring='accuracy', n_jobs=-1, error_score='raise')"
   ]
  },
  {
   "cell_type": "code",
   "execution_count": 9,
   "metadata": {},
   "outputs": [
    {
     "name": "stdout",
     "output_type": "stream",
     "text": [
      "Accuracy: 0.650 (0.011)\n"
     ]
    }
   ],
   "source": [
    "# evaluate model for classification\n",
    "from numpy import mean\n",
    "from numpy import std\n",
    "print('Accuracy: %.3f (%.3f)' % (mean(n_scores), std(n_scores)))"
   ]
  },
  {
   "cell_type": "code",
   "execution_count": 10,
   "metadata": {
    "scrolled": false
   },
   "outputs": [
    {
     "name": "stdout",
     "output_type": "stream",
     "text": [
      "Fitting 3 folds for each of 18 candidates, totalling 54 fits\n",
      "[CV 1/3; 1/18] START estimator__alpha=1e-06, estimator__loss=hinge..............\n",
      "[CV 1/3; 1/18] END estimator__alpha=1e-06, estimator__loss=hinge; total time=   0.0s\n",
      "[CV 2/3; 1/18] START estimator__alpha=1e-06, estimator__loss=hinge..............\n",
      "[CV 2/3; 1/18] END estimator__alpha=1e-06, estimator__loss=hinge; total time=   0.0s\n",
      "[CV 3/3; 1/18] START estimator__alpha=1e-06, estimator__loss=hinge..............\n",
      "[CV 3/3; 1/18] END estimator__alpha=1e-06, estimator__loss=hinge; total time=   0.0s\n",
      "[CV 1/3; 2/18] START estimator__alpha=1e-06, estimator__loss=log................\n",
      "[CV 1/3; 2/18] END estimator__alpha=1e-06, estimator__loss=log; total time=   0.0s\n",
      "[CV 2/3; 2/18] START estimator__alpha=1e-06, estimator__loss=log................\n",
      "[CV 2/3; 2/18] END estimator__alpha=1e-06, estimator__loss=log; total time=   0.0s\n",
      "[CV 3/3; 2/18] START estimator__alpha=1e-06, estimator__loss=log................\n",
      "[CV 3/3; 2/18] END estimator__alpha=1e-06, estimator__loss=log; total time=   0.0s\n",
      "[CV 1/3; 3/18] START estimator__alpha=1e-06, estimator__loss=modified_huber.....\n",
      "[CV 1/3; 3/18] END estimator__alpha=1e-06, estimator__loss=modified_huber; total time=   0.0s\n",
      "[CV 2/3; 3/18] START estimator__alpha=1e-06, estimator__loss=modified_huber.....\n",
      "[CV 2/3; 3/18] END estimator__alpha=1e-06, estimator__loss=modified_huber; total time=   0.0s\n",
      "[CV 3/3; 3/18] START estimator__alpha=1e-06, estimator__loss=modified_huber.....\n",
      "[CV 3/3; 3/18] END estimator__alpha=1e-06, estimator__loss=modified_huber; total time=   0.0s\n",
      "[CV 1/3; 4/18] START estimator__alpha=1e-05, estimator__loss=hinge..............\n",
      "[CV 1/3; 4/18] END estimator__alpha=1e-05, estimator__loss=hinge; total time=   0.0s\n",
      "[CV 2/3; 4/18] START estimator__alpha=1e-05, estimator__loss=hinge..............\n",
      "[CV 2/3; 4/18] END estimator__alpha=1e-05, estimator__loss=hinge; total time=   0.0s\n",
      "[CV 3/3; 4/18] START estimator__alpha=1e-05, estimator__loss=hinge..............\n",
      "[CV 3/3; 4/18] END estimator__alpha=1e-05, estimator__loss=hinge; total time=   0.0s\n",
      "[CV 1/3; 5/18] START estimator__alpha=1e-05, estimator__loss=log................\n",
      "[CV 1/3; 5/18] END estimator__alpha=1e-05, estimator__loss=log; total time=   0.1s\n",
      "[CV 2/3; 5/18] START estimator__alpha=1e-05, estimator__loss=log................\n",
      "[CV 2/3; 5/18] END estimator__alpha=1e-05, estimator__loss=log; total time=   0.0s\n",
      "[CV 3/3; 5/18] START estimator__alpha=1e-05, estimator__loss=log................\n",
      "[CV 3/3; 5/18] END estimator__alpha=1e-05, estimator__loss=log; total time=   0.0s\n",
      "[CV 1/3; 6/18] START estimator__alpha=1e-05, estimator__loss=modified_huber.....\n",
      "[CV 1/3; 6/18] END estimator__alpha=1e-05, estimator__loss=modified_huber; total time=   0.0s\n",
      "[CV 2/3; 6/18] START estimator__alpha=1e-05, estimator__loss=modified_huber.....\n",
      "[CV 2/3; 6/18] END estimator__alpha=1e-05, estimator__loss=modified_huber; total time=   0.0s\n",
      "[CV 3/3; 6/18] START estimator__alpha=1e-05, estimator__loss=modified_huber.....\n",
      "[CV 3/3; 6/18] END estimator__alpha=1e-05, estimator__loss=modified_huber; total time=   0.0s\n",
      "[CV 1/3; 7/18] START estimator__alpha=0.0001, estimator__loss=hinge.............\n",
      "[CV 1/3; 7/18] END estimator__alpha=0.0001, estimator__loss=hinge; total time=   0.0s\n",
      "[CV 2/3; 7/18] START estimator__alpha=0.0001, estimator__loss=hinge.............\n",
      "[CV 2/3; 7/18] END estimator__alpha=0.0001, estimator__loss=hinge; total time=   0.0s\n",
      "[CV 3/3; 7/18] START estimator__alpha=0.0001, estimator__loss=hinge.............\n",
      "[CV 3/3; 7/18] END estimator__alpha=0.0001, estimator__loss=hinge; total time=   0.0s\n",
      "[CV 1/3; 8/18] START estimator__alpha=0.0001, estimator__loss=log...............\n",
      "[CV 1/3; 8/18] END estimator__alpha=0.0001, estimator__loss=log; total time=   0.0s\n",
      "[CV 2/3; 8/18] START estimator__alpha=0.0001, estimator__loss=log...............\n",
      "[CV 2/3; 8/18] END estimator__alpha=0.0001, estimator__loss=log; total time=   0.0s\n",
      "[CV 3/3; 8/18] START estimator__alpha=0.0001, estimator__loss=log...............\n",
      "[CV 3/3; 8/18] END estimator__alpha=0.0001, estimator__loss=log; total time=   0.0s\n",
      "[CV 1/3; 9/18] START estimator__alpha=0.0001, estimator__loss=modified_huber....\n",
      "[CV 1/3; 9/18] END estimator__alpha=0.0001, estimator__loss=modified_huber; total time=   0.0s\n",
      "[CV 2/3; 9/18] START estimator__alpha=0.0001, estimator__loss=modified_huber....\n",
      "[CV 2/3; 9/18] END estimator__alpha=0.0001, estimator__loss=modified_huber; total time=   0.0s\n",
      "[CV 3/3; 9/18] START estimator__alpha=0.0001, estimator__loss=modified_huber....\n",
      "[CV 3/3; 9/18] END estimator__alpha=0.0001, estimator__loss=modified_huber; total time=   0.0s\n",
      "[CV 1/3; 10/18] START estimator__alpha=0.001, estimator__loss=hinge.............\n",
      "[CV 1/3; 10/18] END estimator__alpha=0.001, estimator__loss=hinge; total time=   0.0s\n",
      "[CV 2/3; 10/18] START estimator__alpha=0.001, estimator__loss=hinge.............\n",
      "[CV 2/3; 10/18] END estimator__alpha=0.001, estimator__loss=hinge; total time=   0.0s\n",
      "[CV 3/3; 10/18] START estimator__alpha=0.001, estimator__loss=hinge.............\n",
      "[CV 3/3; 10/18] END estimator__alpha=0.001, estimator__loss=hinge; total time=   0.0s\n",
      "[CV 1/3; 11/18] START estimator__alpha=0.001, estimator__loss=log...............\n",
      "[CV 1/3; 11/18] END estimator__alpha=0.001, estimator__loss=log; total time=   0.0s\n",
      "[CV 2/3; 11/18] START estimator__alpha=0.001, estimator__loss=log...............\n",
      "[CV 2/3; 11/18] END estimator__alpha=0.001, estimator__loss=log; total time=   0.0s\n",
      "[CV 3/3; 11/18] START estimator__alpha=0.001, estimator__loss=log...............\n",
      "[CV 3/3; 11/18] END estimator__alpha=0.001, estimator__loss=log; total time=   0.0s\n",
      "[CV 1/3; 12/18] START estimator__alpha=0.001, estimator__loss=modified_huber....\n",
      "[CV 1/3; 12/18] END estimator__alpha=0.001, estimator__loss=modified_huber; total time=   0.0s\n",
      "[CV 2/3; 12/18] START estimator__alpha=0.001, estimator__loss=modified_huber....\n",
      "[CV 2/3; 12/18] END estimator__alpha=0.001, estimator__loss=modified_huber; total time=   0.0s\n",
      "[CV 3/3; 12/18] START estimator__alpha=0.001, estimator__loss=modified_huber....\n",
      "[CV 3/3; 12/18] END estimator__alpha=0.001, estimator__loss=modified_huber; total time=   0.0s\n",
      "[CV 1/3; 13/18] START estimator__alpha=0.01, estimator__loss=hinge..............\n",
      "[CV 1/3; 13/18] END estimator__alpha=0.01, estimator__loss=hinge; total time=   0.0s\n",
      "[CV 2/3; 13/18] START estimator__alpha=0.01, estimator__loss=hinge..............\n",
      "[CV 2/3; 13/18] END estimator__alpha=0.01, estimator__loss=hinge; total time=   0.0s\n",
      "[CV 3/3; 13/18] START estimator__alpha=0.01, estimator__loss=hinge..............\n",
      "[CV 3/3; 13/18] END estimator__alpha=0.01, estimator__loss=hinge; total time=   0.0s\n",
      "[CV 1/3; 14/18] START estimator__alpha=0.01, estimator__loss=log................\n",
      "[CV 1/3; 14/18] END estimator__alpha=0.01, estimator__loss=log; total time=   0.0s\n",
      "[CV 2/3; 14/18] START estimator__alpha=0.01, estimator__loss=log................\n",
      "[CV 2/3; 14/18] END estimator__alpha=0.01, estimator__loss=log; total time=   0.0s\n",
      "[CV 3/3; 14/18] START estimator__alpha=0.01, estimator__loss=log................\n",
      "[CV 3/3; 14/18] END estimator__alpha=0.01, estimator__loss=log; total time=   0.0s\n",
      "[CV 1/3; 15/18] START estimator__alpha=0.01, estimator__loss=modified_huber.....\n",
      "[CV 1/3; 15/18] END estimator__alpha=0.01, estimator__loss=modified_huber; total time=   0.0s\n",
      "[CV 2/3; 15/18] START estimator__alpha=0.01, estimator__loss=modified_huber.....\n",
      "[CV 2/3; 15/18] END estimator__alpha=0.01, estimator__loss=modified_huber; total time=   0.0s\n",
      "[CV 3/3; 15/18] START estimator__alpha=0.01, estimator__loss=modified_huber.....\n",
      "[CV 3/3; 15/18] END estimator__alpha=0.01, estimator__loss=modified_huber; total time=   0.0s\n",
      "[CV 1/3; 16/18] START estimator__alpha=0.1, estimator__loss=hinge...............\n",
      "[CV 1/3; 16/18] END estimator__alpha=0.1, estimator__loss=hinge; total time=   0.0s\n",
      "[CV 2/3; 16/18] START estimator__alpha=0.1, estimator__loss=hinge...............\n",
      "[CV 2/3; 16/18] END estimator__alpha=0.1, estimator__loss=hinge; total time=   0.0s\n",
      "[CV 3/3; 16/18] START estimator__alpha=0.1, estimator__loss=hinge...............\n",
      "[CV 3/3; 16/18] END estimator__alpha=0.1, estimator__loss=hinge; total time=   0.0s\n",
      "[CV 1/3; 17/18] START estimator__alpha=0.1, estimator__loss=log.................\n",
      "[CV 1/3; 17/18] END estimator__alpha=0.1, estimator__loss=log; total time=   0.0s\n",
      "[CV 2/3; 17/18] START estimator__alpha=0.1, estimator__loss=log.................\n"
     ]
    },
    {
     "name": "stdout",
     "output_type": "stream",
     "text": [
      "[CV 2/3; 17/18] END estimator__alpha=0.1, estimator__loss=log; total time=   0.0s\n",
      "[CV 3/3; 17/18] START estimator__alpha=0.1, estimator__loss=log.................\n",
      "[CV 3/3; 17/18] END estimator__alpha=0.1, estimator__loss=log; total time=   0.0s\n",
      "[CV 1/3; 18/18] START estimator__alpha=0.1, estimator__loss=modified_huber......\n",
      "[CV 1/3; 18/18] END estimator__alpha=0.1, estimator__loss=modified_huber; total time=   0.0s\n",
      "[CV 2/3; 18/18] START estimator__alpha=0.1, estimator__loss=modified_huber......\n",
      "[CV 2/3; 18/18] END estimator__alpha=0.1, estimator__loss=modified_huber; total time=   0.0s\n",
      "[CV 3/3; 18/18] START estimator__alpha=0.1, estimator__loss=modified_huber......\n",
      "[CV 3/3; 18/18] END estimator__alpha=0.1, estimator__loss=modified_huber; total time=   0.0s\n"
     ]
    },
    {
     "data": {
      "text/plain": [
       "{'estimator__alpha': 0.0001, 'estimator__loss': 'log'}"
      ]
     },
     "execution_count": 10,
     "metadata": {},
     "output_type": "execute_result"
    }
   ],
   "source": [
    "model.fit(x,y)\n",
    "model.best_params_"
   ]
  },
  {
   "cell_type": "code",
   "execution_count": 11,
   "metadata": {},
   "outputs": [],
   "source": [
    "#Vectorize test data\n",
    "x_test=tf.transform(preprocessed_test_description)"
   ]
  },
  {
   "cell_type": "code",
   "execution_count": 12,
   "metadata": {},
   "outputs": [],
   "source": [
    "pred=model.predict(x_test)"
   ]
  },
  {
   "cell_type": "code",
   "execution_count": 13,
   "metadata": {},
   "outputs": [],
   "source": [
    "pred=le.inverse_transform(pred)"
   ]
  },
  {
   "cell_type": "code",
   "execution_count": 14,
   "metadata": {},
   "outputs": [],
   "source": [
    "cid=list(test_data['id'])\n",
    "genre=list(pred)"
   ]
  },
  {
   "cell_type": "code",
   "execution_count": 15,
   "metadata": {},
   "outputs": [],
   "source": [
    "pred_file=test_data\n",
    "pred_file['genre']=genre"
   ]
  },
  {
   "cell_type": "code",
   "execution_count": 16,
   "metadata": {},
   "outputs": [],
   "source": [
    "pred_file[['id','genre']].to_csv(\"SGD_with_one_vs.csv\",index=False)"
   ]
  }
 ],
 "metadata": {
  "kernelspec": {
   "display_name": "Python 3",
   "language": "python",
   "name": "python3"
  },
  "language_info": {
   "codemirror_mode": {
    "name": "ipython",
    "version": 3
   },
   "file_extension": ".py",
   "mimetype": "text/x-python",
   "name": "python",
   "nbconvert_exporter": "python",
   "pygments_lexer": "ipython3",
   "version": "3.8.8"
  }
 },
 "nbformat": 4,
 "nbformat_minor": 2
}
